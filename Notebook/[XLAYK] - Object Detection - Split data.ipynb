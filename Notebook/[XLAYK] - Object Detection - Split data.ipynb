{
 "cells": [
  {
   "cell_type": "code",
   "execution_count": 1,
   "id": "a731ae74",
   "metadata": {},
   "outputs": [],
   "source": [
    "import pandas as pd\n",
    "import numpy as np\n",
    "from sklearn.model_selection  import train_test_split"
   ]
  },
  {
   "cell_type": "code",
   "execution_count": 2,
   "id": "b5caec3a",
   "metadata": {},
   "outputs": [],
   "source": [
    "data = pd.read_csv(\"vinbigdata/data.csv\")\n",
    "data  = data[data[\"class_name\"] != \"No finding\"].reset_index(drop =True)"
   ]
  },
  {
   "cell_type": "code",
   "execution_count": 3,
   "id": "ad3ec69d",
   "metadata": {},
   "outputs": [],
   "source": [
    "image_id = data[\"image_id\"].unique()"
   ]
  },
  {
   "cell_type": "code",
   "execution_count": 21,
   "id": "327203a0",
   "metadata": {},
   "outputs": [],
   "source": [
    "train_id, val_test_id = train_test_split(image_id, test_size = 0.2)\n",
    "val_id, test_id = train_test_split(val_test_id, test_size = 0.5)"
   ]
  },
  {
   "cell_type": "code",
   "execution_count": 24,
   "id": "709e9c4c",
   "metadata": {},
   "outputs": [],
   "source": [
    "df_train = data[data['image_id'].isin(train_id)]"
   ]
  },
  {
   "cell_type": "code",
   "execution_count": 27,
   "id": "a4bf2243",
   "metadata": {},
   "outputs": [],
   "source": [
    "df_val = data[data['image_id'].isin(val_id)]"
   ]
  },
  {
   "cell_type": "code",
   "execution_count": 30,
   "id": "60f0466e",
   "metadata": {},
   "outputs": [],
   "source": [
    "df_test = data[data['image_id'].isin(test_id)]"
   ]
  },
  {
   "cell_type": "code",
   "execution_count": 33,
   "id": "3c9a900c",
   "metadata": {},
   "outputs": [],
   "source": [
    "df_train.to_csv(\"vinbigdata/train.csv\", index=False)\n",
    "df_test.to_csv(\"vinbigdata/test.csv\",index=False)\n",
    "df_val.to_csv(\"vinbigdata/val.csv\",index=False)"
   ]
  },
  {
   "cell_type": "code",
   "execution_count": 34,
   "id": "e3967968",
   "metadata": {},
   "outputs": [
    {
     "data": {
      "text/plain": [
       "(3515, 439, 440)"
      ]
     },
     "execution_count": 34,
     "metadata": {},
     "output_type": "execute_result"
    }
   ],
   "source": [
    "len(df_train[\"image_id\"].unique()), len(df_val[\"image_id\"].unique()), len(df_test[\"image_id\"].unique())"
   ]
  },
  {
   "cell_type": "code",
   "execution_count": null,
   "id": "823fdd77",
   "metadata": {},
   "outputs": [],
   "source": []
  }
 ],
 "metadata": {
  "kernelspec": {
   "display_name": "Python 3 (ipykernel)",
   "language": "python",
   "name": "python3"
  },
  "language_info": {
   "codemirror_mode": {
    "name": "ipython",
    "version": 3
   },
   "file_extension": ".py",
   "mimetype": "text/x-python",
   "name": "python",
   "nbconvert_exporter": "python",
   "pygments_lexer": "ipython3",
   "version": "3.7.9"
  }
 },
 "nbformat": 4,
 "nbformat_minor": 5
}
